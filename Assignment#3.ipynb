{
 "cells": [
  {
   "cell_type": "code",
   "execution_count": 1,
   "id": "e5a42ea5",
   "metadata": {},
   "outputs": [
    {
     "name": "stdout",
     "output_type": "stream",
     "text": [
      "Twinkle, twinkle, little star,\n",
      "\tHow I wonder what you are!\n",
      "\t\tUp above the world so high,\n",
      "\t\tLike a diamond in the sky.\n",
      "Twinkle, twinkle, little star,\n",
      "\tHow I wonder what you are\n",
      "\n"
     ]
    }
   ],
   "source": [
    "a=\"Twinkle, twinkle, little star,\"\n",
    "b=\"How I wonder what you are!\"\n",
    "c=\"Up above the world so high,\"\n",
    "d=\"Like a diamond in the sky.\"\n",
    "e=\"Twinkle, twinkle, little star,\"\n",
    "f=\"How I wonder what you are\"\n",
    "print(a+\"\\n\\t\"+\n",
    "     b+\"\\n\\t\\t\"+\n",
    "     c+\"\\n\\t\\t\"+\n",
    "     d+\"\\n\"+\n",
    "     e+\"\\n\\t\"+\n",
    "     f+\"\\n\")"
   ]
  },
  {
   "cell_type": "code",
   "execution_count": 2,
   "id": "f92d86b2",
   "metadata": {},
   "outputs": [
    {
     "name": "stdout",
     "output_type": "stream",
     "text": [
      "<function python_version at 0x0000000002C3D4C0>\n"
     ]
    }
   ],
   "source": [
    "from platform import python_version\n",
    "print(python_version)"
   ]
  },
  {
   "cell_type": "code",
   "execution_count": 1,
   "id": "bec8735f",
   "metadata": {},
   "outputs": [
    {
     "name": "stdout",
     "output_type": "stream",
     "text": [
      "2021-10-24 14:34:17.767496\n"
     ]
    }
   ],
   "source": [
    "from datetime import datetime\n",
    "today=datetime.now()\n",
    "print(today)"
   ]
  },
  {
   "cell_type": "code",
   "execution_count": 2,
   "id": "6ebcfce5",
   "metadata": {},
   "outputs": [
    {
     "name": "stdout",
     "output_type": "stream",
     "text": [
      "Enter Radius34\n",
      "Area of circle=3633.14\n"
     ]
    }
   ],
   "source": [
    "radius=float(input(\"Enter Radius\"))\n",
    "pi=22/7\n",
    "area=pi*(radius**2)\n",
    "print(\"Area of circle=%.2f\"%area)"
   ]
  },
  {
   "cell_type": "code",
   "execution_count": 3,
   "id": "8cddcab7",
   "metadata": {},
   "outputs": [
    {
     "name": "stdout",
     "output_type": "stream",
     "text": [
      "Enter First Name:Saud\n",
      "Enter Last Name:Masood\n",
      "Before Reversing:Saud Masood\n",
      "After Reversing:duaS  doosaM \n"
     ]
    }
   ],
   "source": [
    "def reverse(str):\n",
    "    s=\" \"   \n",
    "    for i in str:\n",
    "        s=i+s\n",
    "    return s\n",
    "    \n",
    "fname=input(\"Enter First Name:\")\n",
    "lname=input(\"Enter Last Name:\")\n",
    "print(\"Before Reversing:\"+fname+\" \"+lname)\n",
    "print(\"After Reversing:\"+reverse(fname)+\" \"+reverse(lname))"
   ]
  },
  {
   "cell_type": "code",
   "execution_count": 4,
   "id": "199cb314",
   "metadata": {},
   "outputs": [
    {
     "name": "stdout",
     "output_type": "stream",
     "text": [
      "Num1:3\n",
      "Num2:5\n",
      "Answer: 8\n"
     ]
    }
   ],
   "source": [
    "num1=int(input(\"Num1:\"))\n",
    "num2=int(input(\"Num2:\"))\n",
    "print(\"Answer:\",(num1+num2))"
   ]
  },
  {
   "cell_type": "code",
   "execution_count": 5,
   "id": "67b917d7",
   "metadata": {},
   "outputs": [
    {
     "name": "stdout",
     "output_type": "stream",
     "text": [
      "SUBJECT NUMBER 1\n",
      "Enter marks76\n",
      "SUBJECT NUMBER 2\n",
      "Enter marks87\n",
      "SUBJECT NUMBER 3\n",
      "Enter marks65\n",
      "SUBJECT NUMBER 4\n",
      "Enter marks70\n",
      "SUBJECT NUMBER 5\n",
      "Enter marks90\n",
      "PERCENTAGE: 77.60000000000001\n",
      "Grade: C\n"
     ]
    }
   ],
   "source": [
    "total=0\n",
    "arr = [ ]\n",
    "i=1\n",
    "def marks():\n",
    " mark=-1\n",
    " print(\"SUBJECT NUMBER\",i+1) \n",
    " while mark not in range(101):\n",
    " \n",
    "  mark=int(input(\"Enter marks\"))\n",
    "  if(mark>100):\n",
    "   print(\"MARKS CAN'T BE GREATER THAN 100!\")\n",
    " return mark\n",
    "for i in range(5):\n",
    " \n",
    " arr.append(marks())     \n",
    " \n",
    "    \n",
    "for i in range(5):\n",
    " total+=arr[i]\n",
    " avg=(total/500)*100\n",
    "print(\"PERCENTAGE:\",avg)\n",
    "if(avg>=90):\n",
    "    print(\"Grade: A\")\n",
    "elif(avg>=80 and avg<90):\n",
    "    print(\"Grade: B\")\n",
    "elif(avg>=70 and avg<80):\n",
    "    print(\"Grade: C\")\n",
    "elif(avg>=60 and avg<70):\n",
    "    print(\"Grade: D\")\n",
    "else:\n",
    "    print(\"Grade: F\")\n"
   ]
  },
  {
   "cell_type": "code",
   "execution_count": null,
   "id": "17cdc67a",
   "metadata": {},
   "outputs": [
    {
     "name": "stdout",
     "output_type": "stream",
     "text": [
      "Enter a Number3\n",
      "3  is Odd Number\n",
      "Enter a Number2\n",
      "2  is Even Number\n",
      "Enter a Number1\n",
      "1  is Odd Number\n"
     ]
    }
   ],
   "source": [
    "z=1\n",
    "while z in range(3):\n",
    " num=int(input(\"Enter a Number\"))\n",
    " if num%2==0:\n",
    "  print(num,\" is Even Number\")\n",
    " else:\n",
    "  print(num,\" is Odd Number\")"
   ]
  },
  {
   "cell_type": "code",
   "execution_count": 7,
   "id": "168e8a8e",
   "metadata": {},
   "outputs": [
    {
     "name": "stdout",
     "output_type": "stream",
     "text": [
      "The length of given list is: 10\n"
     ]
    }
   ],
   "source": [
    "arr={1,1,2,3,5,8,13,21,34,55,89}\n",
    "print(\"The length of given list is:\",len(arr))\n"
   ]
  },
  {
   "cell_type": "code",
   "execution_count": 9,
   "id": "873a8cb2",
   "metadata": {},
   "outputs": [
    {
     "name": "stdout",
     "output_type": "stream",
     "text": [
      "The sum of given list is: 232\n"
     ]
    }
   ],
   "source": [
    "arr=[1,1,2,3,5,8,13,21,34,55,89]\n",
    "sum=0\n",
    "for i in range(0,len(arr)):\n",
    " sum+=arr[i]\n",
    "print(\"The sum of given list is:\",sum)"
   ]
  },
  {
   "cell_type": "code",
   "execution_count": 10,
   "id": "8588bbb2",
   "metadata": {},
   "outputs": [
    {
     "name": "stdout",
     "output_type": "stream",
     "text": [
      "Largest number in list is: 89\n"
     ]
    }
   ],
   "source": [
    "arr=[1,1,2,3,5,8,13,21,34,55,89]\n",
    "print(\"Largest number in list is:\",max(arr))"
   ]
  },
  {
   "cell_type": "code",
   "execution_count": 11,
   "id": "6df2f5b2",
   "metadata": {},
   "outputs": [
    {
     "name": "stdout",
     "output_type": "stream",
     "text": [
      "Number less then 5:\n",
      "1\n",
      "1\n",
      "2\n",
      "3\n"
     ]
    }
   ],
   "source": [
    "arr=[1,1,2,3,5,8,13,21,34,55,89]\n",
    "print(\"Number less then 5:\")\n",
    "for i in range(0,len(arr)):\n",
    " if arr[i]<5:\n",
    "  print(arr[i])"
   ]
  },
  {
   "cell_type": "code",
   "execution_count": null,
   "id": "7b4db775",
   "metadata": {},
   "outputs": [],
   "source": []
  }
 ],
 "metadata": {
  "kernelspec": {
   "display_name": "Python 3",
   "language": "python",
   "name": "python3"
  },
  "language_info": {
   "codemirror_mode": {
    "name": "ipython",
    "version": 3
   },
   "file_extension": ".py",
   "mimetype": "text/x-python",
   "name": "python",
   "nbconvert_exporter": "python",
   "pygments_lexer": "ipython3",
   "version": "3.8.8"
  }
 },
 "nbformat": 4,
 "nbformat_minor": 5
}
